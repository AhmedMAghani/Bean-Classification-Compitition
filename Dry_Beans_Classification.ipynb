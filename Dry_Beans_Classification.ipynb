{
 "cells": [
  {
   "cell_type": "markdown",
   "source": [
    "# **1.** **Importing Modeling** & **Feature Engineering** liberaries"
   ],
   "metadata": {}
  },
  {
   "cell_type": "code",
   "execution_count": 1,
   "source": [
    "import seaborn as sns\r\n",
    "import pandas as pd\r\n",
    "import numpy as np\r\n",
    "\r\n",
    "import matplotlib.pyplot as plt\r\n",
    "\r\n",
    "from sklearn.manifold import TSNE\r\n",
    "from sklearn.decomposition import PCA\r\n",
    "\r\n",
    "from sklearn.preprocessing import PowerTransformer\r\n",
    "from sklearn.preprocessing import StandardScaler\r\n",
    "from sklearn.preprocessing import PolynomialFeatures\r\n",
    "from sklearn.preprocessing import RobustScaler\r\n",
    "from sklearn.feature_selection import RFECV\r\n",
    "from sklearn.svm import SVC\r\n",
    "from sklearn.ensemble import ExtraTreesClassifier\r\n",
    "from sklearn.neighbors import KNeighborsClassifier\r\n",
    "from sklearn.linear_model import LogisticRegression\r\n",
    "from sklearn.calibration import CalibratedClassifierCV\r\n",
    "from sklearn.ensemble import StackingClassifier\r\n",
    "from sklearn.compose import ColumnTransformer\r\n",
    "from sklearn.pipeline import Pipeline\r\n",
    "from sklearn.model_selection import StratifiedKFold\r\n",
    "from sklearn.model_selection import cross_validate\r\n",
    "from sklearn.model_selection import train_test_split\r\n",
    "from sklearn.metrics import plot_confusion_matrix\r\n",
    "from sklearn.metrics import classification_report\r\n",
    "from sklearn.model_selection import GridSearchCV\r\n",
    "\r\n",
    "from imblearn.over_sampling import SMOTE\r\n",
    "from imblearn.over_sampling import RandomOverSampler\r\n",
    "from imblearn.under_sampling import RandomUnderSampler"
   ],
   "outputs": [],
   "metadata": {}
  },
  {
   "cell_type": "markdown",
   "source": [
    "## **1.1.** Setting style to **ggplot**"
   ],
   "metadata": {}
  },
  {
   "cell_type": "code",
   "execution_count": 2,
   "source": [
    "plt.style.use('ggplot')\r\n",
    "%matplotlib inline"
   ],
   "outputs": [],
   "metadata": {}
  },
  {
   "cell_type": "markdown",
   "source": [
    "## **1.2.** Setting plot **Size**, **Font** & **Mode**"
   ],
   "metadata": {}
  },
  {
   "cell_type": "code",
   "execution_count": 3,
   "source": [
    "font = {'family' : 'DejaVu Sans',\r\n",
    "        'weight' : 'bold',\r\n",
    "        'size'   : 18}\r\n",
    "\r\n",
    "plt.rc('font' , **font)\r\n",
    "plt.rcParams['savefig.dpi'] = 480\r\n",
    "plt.rcParams[\"figure.figsize\"] = (40, 30)"
   ],
   "outputs": [],
   "metadata": {}
  },
  {
   "cell_type": "markdown",
   "source": [
    "# **2.** Importing Data to **DataFram**"
   ],
   "metadata": {}
  },
  {
   "cell_type": "code",
   "execution_count": 4,
   "source": [
    "train_df = pd.read_csv(\"./resources/originalData/train.csv\").drop(columns='ID')\r\n",
    "test_df = pd.read_csv(\"./resources/originalData/test.csv\").drop(columns='ID')\r\n",
    "train_data_count = train_df.count()[0]\r\n",
    "print(\"Train data samples count:\",train_data_count)"
   ],
   "outputs": [
    {
     "output_type": "stream",
     "name": "stdout",
     "text": [
      "Train data samples count: 10834\n"
     ]
    }
   ],
   "metadata": {}
  },
  {
   "cell_type": "markdown",
   "source": [
    "## **2.1. Merging DataFrams**"
   ],
   "metadata": {}
  },
  {
   "cell_type": "code",
   "execution_count": 5,
   "source": [
    "train_data_count = train_df.count()\r\n",
    "dry_bean_df = pd.concat([train_df,test_df],axis=0)\r\n",
    "dry_bean_y_df = dry_bean_df['y']\r\n",
    "dry_bean_x_df = dry_bean_df.drop(columns=['y'])"
   ],
   "outputs": [],
   "metadata": {}
  },
  {
   "cell_type": "markdown",
   "source": [
    "# **3.** Feature Engineering"
   ],
   "metadata": {}
  },
  {
   "cell_type": "markdown",
   "source": [
    "## 3.1 Standardization"
   ],
   "metadata": {}
  },
  {
   "cell_type": "code",
   "execution_count": 6,
   "source": [
    "standered_scaler = StandardScaler()\r\n",
    "train_standardized = standered_scaler.fit_transform(train_df.drop(columns='y'))\r\n",
    "test_standardized = standered_scaler.transform(test_df)"
   ],
   "outputs": [],
   "metadata": {}
  },
  {
   "cell_type": "markdown",
   "source": [
    "## **3.2.** PCA"
   ],
   "metadata": {}
  },
  {
   "cell_type": "code",
   "execution_count": 7,
   "source": [
    "pca = PCA(n_components=9)\r\n",
    "pca_x_data = pca.fit_transform(train_standardized)"
   ],
   "outputs": [],
   "metadata": {}
  },
  {
   "cell_type": "code",
   "execution_count": 8,
   "source": [
    "pca_df = pd.concat([pd.DataFrame(pca_x_data),train_df['y']],axis=1)"
   ],
   "outputs": [],
   "metadata": {}
  },
  {
   "cell_type": "markdown",
   "source": [
    "## **3.3.** T-SNE"
   ],
   "metadata": {}
  },
  {
   "cell_type": "code",
   "execution_count": 9,
   "source": [
    "X_embedded = TSNE(n_components=3,perplexity=30, learning_rate=200, n_iter=1000).fit_transform(train_df.drop(columns='y'))"
   ],
   "outputs": [],
   "metadata": {}
  },
  {
   "cell_type": "code",
   "execution_count": 10,
   "source": [
    "tsne_df = pd.DataFrame(X_embedded,columns=[\"axis1\",\"axis2\",'axis3'])"
   ],
   "outputs": [],
   "metadata": {}
  },
  {
   "cell_type": "markdown",
   "source": [
    "### Construct **train** dataframe from **tsne** and **pca**"
   ],
   "metadata": {}
  },
  {
   "cell_type": "code",
   "execution_count": 11,
   "source": [
    "train_transformed =  pd.concat([pca_df,tsne_df],axis=1).drop(columns='y')"
   ],
   "outputs": [],
   "metadata": {}
  },
  {
   "cell_type": "code",
   "execution_count": 12,
   "source": [
    "train_transformed.sample(1)"
   ],
   "outputs": [
    {
     "output_type": "execute_result",
     "data": {
      "text/html": [
       "<div>\n",
       "<style scoped>\n",
       "    .dataframe tbody tr th:only-of-type {\n",
       "        vertical-align: middle;\n",
       "    }\n",
       "\n",
       "    .dataframe tbody tr th {\n",
       "        vertical-align: top;\n",
       "    }\n",
       "\n",
       "    .dataframe thead th {\n",
       "        text-align: right;\n",
       "    }\n",
       "</style>\n",
       "<table border=\"1\" class=\"dataframe\">\n",
       "  <thead>\n",
       "    <tr style=\"text-align: right;\">\n",
       "      <th></th>\n",
       "      <th>0</th>\n",
       "      <th>1</th>\n",
       "      <th>2</th>\n",
       "      <th>3</th>\n",
       "      <th>4</th>\n",
       "      <th>5</th>\n",
       "      <th>6</th>\n",
       "      <th>7</th>\n",
       "      <th>8</th>\n",
       "      <th>axis1</th>\n",
       "      <th>axis2</th>\n",
       "      <th>axis3</th>\n",
       "    </tr>\n",
       "  </thead>\n",
       "  <tbody>\n",
       "    <tr>\n",
       "      <th>176</th>\n",
       "      <td>10.38203</td>\n",
       "      <td>4.995637</td>\n",
       "      <td>-0.751842</td>\n",
       "      <td>0.477124</td>\n",
       "      <td>-0.98363</td>\n",
       "      <td>1.367253</td>\n",
       "      <td>0.956637</td>\n",
       "      <td>0.112443</td>\n",
       "      <td>-0.367848</td>\n",
       "      <td>22.43154</td>\n",
       "      <td>6.051641</td>\n",
       "      <td>10.41074</td>\n",
       "    </tr>\n",
       "  </tbody>\n",
       "</table>\n",
       "</div>"
      ],
      "text/plain": [
       "            0         1         2         3        4         5         6  \\\n",
       "176  10.38203  4.995637 -0.751842  0.477124 -0.98363  1.367253  0.956637   \n",
       "\n",
       "            7         8     axis1     axis2     axis3  \n",
       "176  0.112443 -0.367848  22.43154  6.051641  10.41074  "
      ]
     },
     "metadata": {},
     "execution_count": 12
    }
   ],
   "metadata": {}
  },
  {
   "cell_type": "markdown",
   "source": [
    "## **3.4.** Balance clases"
   ],
   "metadata": {}
  },
  {
   "cell_type": "code",
   "execution_count": 13,
   "source": [
    "train_df.y.unique().tolist()"
   ],
   "outputs": [
    {
     "output_type": "execute_result",
     "data": {
      "text/plain": [
       "['HOROZ', 'SEKER', 'DERMASON', 'SIRA', 'BARBUNYA', 'CALI', 'BOMBAY']"
      ]
     },
     "metadata": {},
     "execution_count": 13
    }
   ],
   "metadata": {}
  },
  {
   "cell_type": "code",
   "execution_count": 14,
   "source": [
    "weights = dict(zip(train_df.y.unique(),[4000,4000,8000,8000,4000,4000,4000]))"
   ],
   "outputs": [],
   "metadata": {}
  },
  {
   "cell_type": "code",
   "execution_count": 15,
   "source": [
    "smote = SMOTE(sampling_strategy=weights)\r\n",
    "x_smote_balance,y_smote_balance = smote.fit_resample(train_transformed,train_df['y'])"
   ],
   "outputs": [
    {
     "output_type": "stream",
     "name": "stderr",
     "text": [
      "D:\\ProgramData\\Anaconda3\\lib\\site-packages\\imblearn\\utils\\_validation.py:299: UserWarning: After over-sampling, the number of samples (4000) in class HOROZ will be larger than the number of samples in the majority class (class #DERMASON -> 2837)\n",
      "  warnings.warn(\n",
      "D:\\ProgramData\\Anaconda3\\lib\\site-packages\\imblearn\\utils\\_validation.py:299: UserWarning: After over-sampling, the number of samples (4000) in class SEKER will be larger than the number of samples in the majority class (class #DERMASON -> 2837)\n",
      "  warnings.warn(\n",
      "D:\\ProgramData\\Anaconda3\\lib\\site-packages\\imblearn\\utils\\_validation.py:299: UserWarning: After over-sampling, the number of samples (8000) in class DERMASON will be larger than the number of samples in the majority class (class #DERMASON -> 2837)\n",
      "  warnings.warn(\n",
      "D:\\ProgramData\\Anaconda3\\lib\\site-packages\\imblearn\\utils\\_validation.py:299: UserWarning: After over-sampling, the number of samples (8000) in class SIRA will be larger than the number of samples in the majority class (class #DERMASON -> 2837)\n",
      "  warnings.warn(\n",
      "D:\\ProgramData\\Anaconda3\\lib\\site-packages\\imblearn\\utils\\_validation.py:299: UserWarning: After over-sampling, the number of samples (4000) in class BARBUNYA will be larger than the number of samples in the majority class (class #DERMASON -> 2837)\n",
      "  warnings.warn(\n",
      "D:\\ProgramData\\Anaconda3\\lib\\site-packages\\imblearn\\utils\\_validation.py:299: UserWarning: After over-sampling, the number of samples (4000) in class CALI will be larger than the number of samples in the majority class (class #DERMASON -> 2837)\n",
      "  warnings.warn(\n",
      "D:\\ProgramData\\Anaconda3\\lib\\site-packages\\imblearn\\utils\\_validation.py:299: UserWarning: After over-sampling, the number of samples (4000) in class BOMBAY will be larger than the number of samples in the majority class (class #DERMASON -> 2837)\n",
      "  warnings.warn(\n"
     ]
    }
   ],
   "metadata": {}
  },
  {
   "cell_type": "markdown",
   "source": [
    "# ***4. SVM Model***"
   ],
   "metadata": {}
  },
  {
   "cell_type": "code",
   "execution_count": 16,
   "source": [
    "weights = dict(zip(train_df.y.unique(),[1,1,1,1,1,1,1]))"
   ],
   "outputs": [],
   "metadata": {}
  },
  {
   "cell_type": "code",
   "execution_count": 17,
   "source": [
    "support_vector_machine = SVC(C=5.5, kernel='rbf', degree=3, gamma=3.5, coef0=0.0, shrinking=False, probability=False, tol=0.001, cache_size=200, class_weight=None, verbose=False, max_iter=- 1, decision_function_shape='ovr', break_ties=False, random_state=42)"
   ],
   "outputs": [],
   "metadata": {}
  },
  {
   "cell_type": "markdown",
   "source": [
    "## **4.1. K_Fold** evaluation"
   ],
   "metadata": {}
  },
  {
   "cell_type": "code",
   "execution_count": 18,
   "source": [
    "k_fold = StratifiedKFold(n_splits=30)\r\n",
    "scores = cross_validate(support_vector_machine,X=x_smote_balance,y=y_smote_balance,n_jobs=-1,cv=k_fold,scoring=['accuracy'])"
   ],
   "outputs": [],
   "metadata": {}
  },
  {
   "cell_type": "code",
   "execution_count": null,
   "source": [
    "print('Cross Validation Accuracy:',np.mean(scores['test_accuracy']))"
   ],
   "outputs": [
    {
     "output_type": "stream",
     "name": "stdout",
     "text": [
      "Cross Validation Accuracy: 0.9810277777777777\n"
     ]
    }
   ],
   "metadata": {}
  },
  {
   "cell_type": "markdown",
   "source": [
    "## **4.2. Confusion Matrix** evaluation"
   ],
   "metadata": {}
  },
  {
   "cell_type": "code",
   "execution_count": null,
   "source": [
    "_, x_val, _, y_val = train_test_split(train_transformed,train_df['y'],test_size=0.2,random_state=42)\r\n",
    "x_train, _, y_train, _ = train_test_split(x_smote_balance,y_smote_balance,test_size=0.2,random_state=42)"
   ],
   "outputs": [],
   "metadata": {}
  },
  {
   "cell_type": "code",
   "execution_count": null,
   "source": [
    "support_vector_machine.fit(x_train,y_train)\r\n",
    "y_pred = support_vector_machine.predict(x_val)"
   ],
   "outputs": [],
   "metadata": {}
  },
  {
   "cell_type": "code",
   "execution_count": null,
   "source": [
    "plot_confusion_matrix(support_vector_machine,x_val,y_val)"
   ],
   "outputs": [
    {
     "output_type": "display_data",
     "data": {
      "text/plain": [
       "<sklearn.metrics._plot.confusion_matrix.ConfusionMatrixDisplay at 0x28cb7091610>"
      ]
     },
     "metadata": {}
    },
    {
     "output_type": "display_data",
     "data": {
      "image/png": "[encoded data removed]",
      "text/plain": [
       "<Figure size 2880x2160 with 2 Axes>"
      ]
     },
     "metadata": {}
    }
   ],
   "metadata": {}
  },
  {
   "cell_type": "code",
   "execution_count": null,
   "source": [
    "print(classification_report(y_true=y_val,y_pred=y_pred))"
   ],
   "outputs": [
    {
     "output_type": "stream",
     "name": "stdout",
     "text": [
      "              precision    recall  f1-score   support\n",
      "\n",
      "    BARBUNYA       1.00      0.99      1.00       232\n",
      "      BOMBAY       1.00      1.00      1.00        79\n",
      "        CALI       1.00      0.99      0.99       254\n",
      "    DERMASON       0.98      0.97      0.98       555\n",
      "       HOROZ       0.95      0.99      0.97       288\n",
      "       SEKER       1.00      0.97      0.98       336\n",
      "        SIRA       0.96      0.98      0.97       423\n",
      "\n",
      "    accuracy                           0.98      2167\n",
      "   macro avg       0.98      0.99      0.98      2167\n",
      "weighted avg       0.98      0.98      0.98      2167\n",
      "\n"
     ]
    }
   ],
   "metadata": {}
  },
  {
   "cell_type": "markdown",
   "source": [
    "# ***5. Observations***"
   ],
   "metadata": {}
  },
  {
   "cell_type": "markdown",
   "source": [
    "## **First** Observation, Preprocessing (**Standardization**):\r\n",
    "* ### Model confused between **Sira** and **Dermason** **70** smaple miss classified\r\n",
    "* ### Model confused between **Cali** and **Barbounya** **20** samples miss classified\r\n",
    "* ### **Accuracy** score 94% and avarage **Accuracy** 92.77%\r\n",
    "* ### Looking to improve **Dermason , Cali and Sira** scores which are the **worest** **F1** scores **93%,93%,89%**"
   ],
   "metadata": {}
  },
  {
   "cell_type": "markdown",
   "source": [
    "## **Second** Observation, Preprocessing (**Standardization**,**Smote**):\r\n",
    "* ### Model confused between **Sira** and **Dermason** **70** smaple miss classified\r\n",
    "* ### Model confused between **Cali** and **Barbounya** **20** samples miss classified\r\n",
    "* ### **Accuracy** score 94% and avarage **Accuracy** 94.6%\r\n",
    "* ### Looking to improve **Dermason , Cali and Sira** scores which are the **worest** **F1** scores **93%,93%,90%**"
   ],
   "metadata": {}
  },
  {
   "cell_type": "markdown",
   "source": [
    "## **Third** Observation, Preprocessing (**Standardization**,**Smote\"[4000,4000,8000,8000,4000,4000,4000]\"**):\r\n",
    "* ### Model confused between **Sira** and **Dermason** **55** smaple miss classified\r\n",
    "* ### Model confused between **Cali** and **Barbounya** **7** samples miss classified\r\n",
    "* ### **Accuracy** score 96% and avarage **Accuracy** 96.5%\r\n",
    "* ### Looking to improve **Dermason ,Sira** scores which are the **worest** **F1** scores **95%,92%**"
   ],
   "metadata": {}
  },
  {
   "cell_type": "markdown",
   "source": [
    "## **Fourth** Observation, Preprocessing (**Standardization**,**Smote\"[4000,4000,8000,8000,4000,4000,4000]\"**,**T-SNE**):\r\n",
    "* ### Model confused between **Sira** and **Dermason** **30** smaple miss classified\r\n",
    "* ### Model confused between **Cali** and **Barbounya** **7** samples miss classified ***Solved***\r\n",
    "* ### **Accuracy** score 98% and avarage **Accuracy** 97.6%\r\n",
    "* ### Looking to improve **Dermason ,Sira** scores which are the **worest** **F1** scores **97%,95%**\r\n",
    "## **Tuning** {C:2, gamma:3}:\r\n",
    "* ### Result **Accuracy** score 98% and mean **Accuracy** 98.0%\r\n",
    "* ### Model confused between **Sira** and **Dermason** **19** smaple miss classified\r\n",
    "## **Tuning using gridsearch** {C:5.5, gamma:3.5}:\r\n",
    "* ### Result **Accuracy** score 98% and mean **Accuracy** 98.0%\r\n",
    "* ### Model classify **6 Dermason** as **Sira**\r\n",
    "* ### Model classify **8 Horoz** as **Seker**"
   ],
   "metadata": {}
  }
 ],
 "metadata": {
  "orig_nbformat": 4,
  "language_info": {
   "name": "python",
   "version": "3.8.5",
   "mimetype": "text/x-python",
   "codemirror_mode": {
    "name": "ipython",
    "version": 3
   },
   "pygments_lexer": "ipython3",
   "nbconvert_exporter": "python",
   "file_extension": ".py"
  },
  "kernelspec": {
   "name": "python3",
   "display_name": "Python 3.8.5 64-bit ('base': conda)"
  },
  "interpreter": {
   "hash": "73e03da126b73bfff3642ec5261d56fa25c444ea595de51041687efaa60dda41"
  }
 },
 "nbformat": 4,
 "nbformat_minor": 2
}