{
 "cells": [
  {
   "cell_type": "markdown",
   "source": [
    "# **1.** **Importing Modeling** & **Feature Engineering** liberaries"
   ],
   "metadata": {}
  },
  {
   "cell_type": "code",
   "execution_count": 1,
   "source": [
    "import seaborn as sns\r\n",
    "import pandas as pd\r\n",
    "import numpy as np\r\n",
    "\r\n",
    "import matplotlib.pyplot as plt\r\n",
    "\r\n",
    "from sklearn.preprocessing import PowerTransformer\r\n",
    "from sklearn.preprocessing import StandardScaler\r\n",
    "from sklearn.preprocessing import PolynomialFeatures\r\n",
    "from sklearn.preprocessing import RobustScaler\r\n",
    "from sklearn.feature_selection import RFECV\r\n",
    "from sklearn.svm import SVC\r\n",
    "from sklearn.ensemble import ExtraTreesClassifier\r\n",
    "from sklearn.neighbors import KNeighborsClassifier\r\n",
    "from sklearn.linear_model import LogisticRegression\r\n",
    "from sklearn.calibration import CalibratedClassifierCV\r\n",
    "from sklearn.ensemble import StackingClassifier\r\n",
    "from sklearn.compose import ColumnTransformer\r\n",
    "from sklearn.pipeline import Pipeline\r\n",
    "from sklearn.model_selection import StratifiedKFold\r\n",
    "from sklearn.model_selection import cross_validate\r\n",
    "from sklearn.model_selection import train_test_split\r\n",
    "from sklearn.metrics import plot_confusion_matrix\r\n",
    "from sklearn.metrics import classification_report\r\n",
    "from sklearn.model_selection import GridSearchCV\r\n",
    "\r\n",
    "from imblearn.over_sampling import SMOTE\r\n",
    "from imblearn.over_sampling import RandomOverSampler\r\n",
    "from imblearn.under_sampling import RandomUnderSampler"
   ],
   "outputs": [],
   "metadata": {}
  },
  {
   "cell_type": "markdown",
   "source": [
    "## **1.1.** Setting style to **ggplot**"
   ],
   "metadata": {}
  },
  {
   "cell_type": "code",
   "execution_count": 2,
   "source": [
    "plt.style.use('ggplot')\r\n",
    "%matplotlib inline"
   ],
   "outputs": [],
   "metadata": {}
  },
  {
   "cell_type": "markdown",
   "source": [
    "## **1.2.** Setting plot **Size**, **Font** & **Mode**"
   ],
   "metadata": {}
  },
  {
   "cell_type": "code",
   "execution_count": 3,
   "source": [
    "font = {'family' : 'DejaVu Sans',\r\n",
    "        'weight' : 'bold',\r\n",
    "        'size'   : 18}\r\n",
    "\r\n",
    "plt.rc('font' , **font)\r\n",
    "plt.rcParams['savefig.dpi'] = 480\r\n",
    "plt.rcParams[\"figure.figsize\"] = (40, 30)"
   ],
   "outputs": [],
   "metadata": {}
  },
  {
   "cell_type": "markdown",
   "source": [
    "# **2.** Importing Data to **DataFram**"
   ],
   "metadata": {}
  },
  {
   "cell_type": "code",
   "execution_count": 69,
   "source": [
    "train_df = pd.read_csv(\"./resources/originalData/train.csv\").drop(columns='ID').drop(columns=['ShapeFactor3','AspectRation','Area','MajorAxisLength','MinorAxisLength','ConvexArea','EquivDiameter','ShapeFactor1' ])\r\n",
    "test_df = pd.read_csv(\"./resources/originalData/test.csv\").drop(columns=['ID','ShapeFactor3','AspectRation','Area','MajorAxisLength','MinorAxisLength','ConvexArea','EquivDiameter','ShapeFactor1' ])\r\n",
    "train_data_count = train_df.count()[0]\r\n",
    "print(\"Train data samples count:\",train_data_count)"
   ],
   "outputs": [
    {
     "output_type": "stream",
     "name": "stdout",
     "text": [
      "Train data samples count: 10834\n"
     ]
    }
   ],
   "metadata": {}
  },
  {
   "cell_type": "markdown",
   "source": [
    "## **2.1. Merging DataFrams**"
   ],
   "metadata": {}
  },
  {
   "cell_type": "code",
   "execution_count": 70,
   "source": [
    "train_data_count = train_df.count()\r\n",
    "dry_bean_df = pd.concat([train_df,test_df],axis=0)\r\n",
    "dry_bean_y_df = dry_bean_df['y']\r\n",
    "dry_bean_x_df = dry_bean_df.drop(columns=['y'])\r\n",
    "tsne_df = pd.read_csv(\"./resources/generatedData/t_sne.csv\").iloc[:,1:]\r\n",
    "pca_df = pd.read_csv(\"./resources/generatedData/pca.csv\").iloc[:,1:]"
   ],
   "outputs": [],
   "metadata": {}
  },
  {
   "cell_type": "markdown",
   "source": [
    "# **3.** Feature Engineering"
   ],
   "metadata": {}
  },
  {
   "cell_type": "code",
   "execution_count": 71,
   "source": [
    "# train_df = pd.concat([train_df,tsne_df,pca_df],axis=1)\r\n",
    "train_df = pd.concat([pca_df,tsne_df],axis=1)"
   ],
   "outputs": [],
   "metadata": {}
  },
  {
   "cell_type": "markdown",
   "source": [
    "## 3.1 Standardization"
   ],
   "metadata": {}
  },
  {
   "cell_type": "code",
   "execution_count": 72,
   "source": [
    "standered_scaler = PowerTransformer()\r\n",
    "train_transformed = standered_scaler.fit_transform(train_df.drop(columns='y'))\r\n",
    "# test_transformed = standered_scaler.transform(test_df)"
   ],
   "outputs": [],
   "metadata": {}
  },
  {
   "cell_type": "code",
   "execution_count": 73,
   "source": [
    "train_df.hist()"
   ],
   "outputs": [
    {
     "output_type": "execute_result",
     "data": {
      "text/html": [
       "<div>\n",
       "<style scoped>\n",
       "    .dataframe tbody tr th:only-of-type {\n",
       "        vertical-align: middle;\n",
       "    }\n",
       "\n",
       "    .dataframe tbody tr th {\n",
       "        vertical-align: top;\n",
       "    }\n",
       "\n",
       "    .dataframe thead th {\n",
       "        text-align: right;\n",
       "    }\n",
       "</style>\n",
       "<table border=\"1\" class=\"dataframe\">\n",
       "  <thead>\n",
       "    <tr style=\"text-align: right;\">\n",
       "      <th></th>\n",
       "      <th>0</th>\n",
       "      <th>1</th>\n",
       "      <th>2</th>\n",
       "      <th>3</th>\n",
       "      <th>4</th>\n",
       "      <th>5</th>\n",
       "      <th>6</th>\n",
       "      <th>7</th>\n",
       "      <th>8</th>\n",
       "      <th>y</th>\n",
       "      <th>x1</th>\n",
       "      <th>x2</th>\n",
       "      <th>x3</th>\n",
       "    </tr>\n",
       "  </thead>\n",
       "  <tbody>\n",
       "    <tr>\n",
       "      <th>0</th>\n",
       "      <td>3.051940</td>\n",
       "      <td>-3.354363</td>\n",
       "      <td>-1.427282</td>\n",
       "      <td>-2.404709</td>\n",
       "      <td>0.638041</td>\n",
       "      <td>0.092700</td>\n",
       "      <td>0.190345</td>\n",
       "      <td>-0.467188</td>\n",
       "      <td>-0.047984</td>\n",
       "      <td>HOROZ</td>\n",
       "      <td>1.540385</td>\n",
       "      <td>2.011808</td>\n",
       "      <td>-12.837942</td>\n",
       "    </tr>\n",
       "    <tr>\n",
       "      <th>1</th>\n",
       "      <td>-3.005715</td>\n",
       "      <td>2.795600</td>\n",
       "      <td>-0.470891</td>\n",
       "      <td>-0.274563</td>\n",
       "      <td>-0.688429</td>\n",
       "      <td>-0.646019</td>\n",
       "      <td>0.133849</td>\n",
       "      <td>-0.039291</td>\n",
       "      <td>0.074035</td>\n",
       "      <td>SEKER</td>\n",
       "      <td>-11.378807</td>\n",
       "      <td>4.581674</td>\n",
       "      <td>3.141051</td>\n",
       "    </tr>\n",
       "    <tr>\n",
       "      <th>2</th>\n",
       "      <td>-2.935544</td>\n",
       "      <td>0.022258</td>\n",
       "      <td>-0.102360</td>\n",
       "      <td>0.924502</td>\n",
       "      <td>0.002343</td>\n",
       "      <td>0.398432</td>\n",
       "      <td>-0.119146</td>\n",
       "      <td>-0.069165</td>\n",
       "      <td>-0.051782</td>\n",
       "      <td>DERMASON</td>\n",
       "      <td>-3.010063</td>\n",
       "      <td>1.905750</td>\n",
       "      <td>8.379338</td>\n",
       "    </tr>\n",
       "    <tr>\n",
       "      <th>3</th>\n",
       "      <td>-1.898879</td>\n",
       "      <td>0.156482</td>\n",
       "      <td>-0.480229</td>\n",
       "      <td>0.101601</td>\n",
       "      <td>0.353388</td>\n",
       "      <td>0.121668</td>\n",
       "      <td>-0.286833</td>\n",
       "      <td>-0.025539</td>\n",
       "      <td>-0.019505</td>\n",
       "      <td>DERMASON</td>\n",
       "      <td>-3.363535</td>\n",
       "      <td>1.110733</td>\n",
       "      <td>3.987202</td>\n",
       "    </tr>\n",
       "    <tr>\n",
       "      <th>4</th>\n",
       "      <td>-1.258651</td>\n",
       "      <td>0.155186</td>\n",
       "      <td>0.005715</td>\n",
       "      <td>-0.537242</td>\n",
       "      <td>0.012558</td>\n",
       "      <td>-0.164946</td>\n",
       "      <td>-0.183999</td>\n",
       "      <td>0.183310</td>\n",
       "      <td>-0.009082</td>\n",
       "      <td>SIRA</td>\n",
       "      <td>-2.025309</td>\n",
       "      <td>2.587151</td>\n",
       "      <td>0.806100</td>\n",
       "    </tr>\n",
       "    <tr>\n",
       "      <th>...</th>\n",
       "      <td>...</td>\n",
       "      <td>...</td>\n",
       "      <td>...</td>\n",
       "      <td>...</td>\n",
       "      <td>...</td>\n",
       "      <td>...</td>\n",
       "      <td>...</td>\n",
       "      <td>...</td>\n",
       "      <td>...</td>\n",
       "      <td>...</td>\n",
       "      <td>...</td>\n",
       "      <td>...</td>\n",
       "      <td>...</td>\n",
       "    </tr>\n",
       "    <tr>\n",
       "      <th>10829</th>\n",
       "      <td>-2.949961</td>\n",
       "      <td>1.485781</td>\n",
       "      <td>0.183337</td>\n",
       "      <td>-0.088451</td>\n",
       "      <td>0.048180</td>\n",
       "      <td>-0.163325</td>\n",
       "      <td>0.104372</td>\n",
       "      <td>0.040382</td>\n",
       "      <td>-0.049513</td>\n",
       "      <td>SEKER</td>\n",
       "      <td>-8.153569</td>\n",
       "      <td>3.719607</td>\n",
       "      <td>6.257363</td>\n",
       "    </tr>\n",
       "    <tr>\n",
       "      <th>10830</th>\n",
       "      <td>-2.310849</td>\n",
       "      <td>-0.874960</td>\n",
       "      <td>-0.093920</td>\n",
       "      <td>-0.302639</td>\n",
       "      <td>-0.078412</td>\n",
       "      <td>0.432488</td>\n",
       "      <td>-0.183685</td>\n",
       "      <td>0.024983</td>\n",
       "      <td>-0.013906</td>\n",
       "      <td>DERMASON</td>\n",
       "      <td>0.374555</td>\n",
       "      <td>4.417758</td>\n",
       "      <td>4.871922</td>\n",
       "    </tr>\n",
       "    <tr>\n",
       "      <th>10831</th>\n",
       "      <td>3.297881</td>\n",
       "      <td>0.512592</td>\n",
       "      <td>-1.549555</td>\n",
       "      <td>0.488668</td>\n",
       "      <td>-0.233740</td>\n",
       "      <td>-0.443127</td>\n",
       "      <td>-0.033004</td>\n",
       "      <td>-0.025934</td>\n",
       "      <td>-0.134859</td>\n",
       "      <td>CALI</td>\n",
       "      <td>4.999101</td>\n",
       "      <td>-10.454338</td>\n",
       "      <td>-5.732395</td>\n",
       "    </tr>\n",
       "    <tr>\n",
       "      <th>10832</th>\n",
       "      <td>-0.117401</td>\n",
       "      <td>-0.433903</td>\n",
       "      <td>-0.095745</td>\n",
       "      <td>-1.354012</td>\n",
       "      <td>-0.525942</td>\n",
       "      <td>-0.268971</td>\n",
       "      <td>-0.346086</td>\n",
       "      <td>0.138312</td>\n",
       "      <td>0.007705</td>\n",
       "      <td>SIRA</td>\n",
       "      <td>0.144288</td>\n",
       "      <td>2.265051</td>\n",
       "      <td>-2.522230</td>\n",
       "    </tr>\n",
       "    <tr>\n",
       "      <th>10833</th>\n",
       "      <td>-4.302669</td>\n",
       "      <td>0.789394</td>\n",
       "      <td>-0.025503</td>\n",
       "      <td>0.112042</td>\n",
       "      <td>0.009626</td>\n",
       "      <td>0.428911</td>\n",
       "      <td>0.319269</td>\n",
       "      <td>-0.002333</td>\n",
       "      <td>-0.202505</td>\n",
       "      <td>DERMASON</td>\n",
       "      <td>-3.849763</td>\n",
       "      <td>5.132292</td>\n",
       "      <td>9.449329</td>\n",
       "    </tr>\n",
       "  </tbody>\n",
       "</table>\n",
       "<p>10834 rows × 13 columns</p>\n",
       "</div>"
      ],
      "text/plain": [
       "              0         1         2         3         4         5         6  \\\n",
       "0      3.051940 -3.354363 -1.427282 -2.404709  0.638041  0.092700  0.190345   \n",
       "1     -3.005715  2.795600 -0.470891 -0.274563 -0.688429 -0.646019  0.133849   \n",
       "2     -2.935544  0.022258 -0.102360  0.924502  0.002343  0.398432 -0.119146   \n",
       "3     -1.898879  0.156482 -0.480229  0.101601  0.353388  0.121668 -0.286833   \n",
       "4     -1.258651  0.155186  0.005715 -0.537242  0.012558 -0.164946 -0.183999   \n",
       "...         ...       ...       ...       ...       ...       ...       ...   \n",
       "10829 -2.949961  1.485781  0.183337 -0.088451  0.048180 -0.163325  0.104372   \n",
       "10830 -2.310849 -0.874960 -0.093920 -0.302639 -0.078412  0.432488 -0.183685   \n",
       "10831  3.297881  0.512592 -1.549555  0.488668 -0.233740 -0.443127 -0.033004   \n",
       "10832 -0.117401 -0.433903 -0.095745 -1.354012 -0.525942 -0.268971 -0.346086   \n",
       "10833 -4.302669  0.789394 -0.025503  0.112042  0.009626  0.428911  0.319269   \n",
       "\n",
       "              7         8         y         x1         x2         x3  \n",
       "0     -0.467188 -0.047984     HOROZ   1.540385   2.011808 -12.837942  \n",
       "1     -0.039291  0.074035     SEKER -11.378807   4.581674   3.141051  \n",
       "2     -0.069165 -0.051782  DERMASON  -3.010063   1.905750   8.379338  \n",
       "3     -0.025539 -0.019505  DERMASON  -3.363535   1.110733   3.987202  \n",
       "4      0.183310 -0.009082      SIRA  -2.025309   2.587151   0.806100  \n",
       "...         ...       ...       ...        ...        ...        ...  \n",
       "10829  0.040382 -0.049513     SEKER  -8.153569   3.719607   6.257363  \n",
       "10830  0.024983 -0.013906  DERMASON   0.374555   4.417758   4.871922  \n",
       "10831 -0.025934 -0.134859      CALI   4.999101 -10.454338  -5.732395  \n",
       "10832  0.138312  0.007705      SIRA   0.144288   2.265051  -2.522230  \n",
       "10833 -0.002333 -0.202505  DERMASON  -3.849763   5.132292   9.449329  \n",
       "\n",
       "[10834 rows x 13 columns]"
      ]
     },
     "metadata": {},
     "execution_count": 73
    }
   ],
   "metadata": {}
  },
  {
   "cell_type": "markdown",
   "source": [
    "## 3.2 Balance clases"
   ],
   "metadata": {}
  },
  {
   "cell_type": "code",
   "execution_count": 74,
   "source": [
    "# train_df.y.unique()"
   ],
   "outputs": [
    {
     "output_type": "execute_result",
     "data": {
      "text/plain": [
       "array(['HOROZ', 'SEKER', 'DERMASON', 'SIRA', 'BARBUNYA', 'CALI', 'BOMBAY'],\n",
       "      dtype=object)"
      ]
     },
     "metadata": {},
     "execution_count": 74
    }
   ],
   "metadata": {}
  },
  {
   "cell_type": "code",
   "execution_count": 75,
   "source": [
    "# weights = dict(zip(train_df.y.unique(),[4000,4000,8000,8000,4000,4000,4000]))"
   ],
   "outputs": [],
   "metadata": {}
  },
  {
   "cell_type": "code",
   "execution_count": 76,
   "source": [
    "# smote = SMOTE(sampling_strategy=weights)\r\n",
    "# x_smote_balance,y_smote_balance = smote.fit_resample(train_transformed,train_df['y'])"
   ],
   "outputs": [
    {
     "output_type": "stream",
     "name": "stderr",
     "text": [
      "D:\\ProgramData\\Anaconda3\\lib\\site-packages\\imblearn\\utils\\_validation.py:299: UserWarning: After over-sampling, the number of samples (4000) in class HOROZ will be larger than the number of samples in the majority class (class #DERMASON -> 2837)\n",
      "  warnings.warn(\n",
      "D:\\ProgramData\\Anaconda3\\lib\\site-packages\\imblearn\\utils\\_validation.py:299: UserWarning: After over-sampling, the number of samples (4000) in class SEKER will be larger than the number of samples in the majority class (class #DERMASON -> 2837)\n",
      "  warnings.warn(\n",
      "D:\\ProgramData\\Anaconda3\\lib\\site-packages\\imblearn\\utils\\_validation.py:299: UserWarning: After over-sampling, the number of samples (8000) in class DERMASON will be larger than the number of samples in the majority class (class #DERMASON -> 2837)\n",
      "  warnings.warn(\n",
      "D:\\ProgramData\\Anaconda3\\lib\\site-packages\\imblearn\\utils\\_validation.py:299: UserWarning: After over-sampling, the number of samples (8000) in class SIRA will be larger than the number of samples in the majority class (class #DERMASON -> 2837)\n",
      "  warnings.warn(\n",
      "D:\\ProgramData\\Anaconda3\\lib\\site-packages\\imblearn\\utils\\_validation.py:299: UserWarning: After over-sampling, the number of samples (4000) in class BARBUNYA will be larger than the number of samples in the majority class (class #DERMASON -> 2837)\n",
      "  warnings.warn(\n",
      "D:\\ProgramData\\Anaconda3\\lib\\site-packages\\imblearn\\utils\\_validation.py:299: UserWarning: After over-sampling, the number of samples (4000) in class CALI will be larger than the number of samples in the majority class (class #DERMASON -> 2837)\n",
      "  warnings.warn(\n",
      "D:\\ProgramData\\Anaconda3\\lib\\site-packages\\imblearn\\utils\\_validation.py:299: UserWarning: After over-sampling, the number of samples (4000) in class BOMBAY will be larger than the number of samples in the majority class (class #DERMASON -> 2837)\n",
      "  warnings.warn(\n"
     ]
    }
   ],
   "metadata": {}
  },
  {
   "cell_type": "markdown",
   "source": [
    "# ***4. SVM Model***"
   ],
   "metadata": {}
  },
  {
   "cell_type": "code",
   "execution_count": 77,
   "source": [
    "# def tune_hyper_parameter(regressor,grid,X_train,Y_train):\r\n",
    "#     k_fold = StratifiedKFold(n_splits=5,shuffle=True)\r\n",
    "#     optimized_model = GridSearchCV(estimator=regressor,param_grid=grid,scoring='accuracy',n_jobs=-1,cv=k_fold,verbose=10)\r\n",
    "#     optimized_model.fit(X_train,Y_train)\r\n",
    "#     return optimized_model.best_params_"
   ],
   "outputs": [],
   "metadata": {}
  },
  {
   "cell_type": "code",
   "execution_count": 78,
   "source": [
    "# weights = dict(zip(train_df.y.unique(),[1500,1500,1500,1500,1500,1500,1500]))"
   ],
   "outputs": [],
   "metadata": {}
  },
  {
   "cell_type": "code",
   "execution_count": 123,
   "source": [
    "support_vector_machine = SVC(C=5.5, kernel='rbf', degree=3, gamma=3.5, coef0=0.0, shrinking=False, probability=False, tol=0.001, cache_size=200, class_weight=None, verbose=False, max_iter=- 1, decision_function_shape='ovr', break_ties=False, random_state=42)"
   ],
   "outputs": [],
   "metadata": {}
  },
  {
   "cell_type": "markdown",
   "source": [
    "## **4.1. K_Fold** evaluation"
   ],
   "metadata": {}
  },
  {
   "cell_type": "code",
   "execution_count": 110,
   "source": [
    "# k_fold = StratifiedKFold(n_splits=30)\r\n",
    "# scores = cross_validate(support_vector_machine,X=x_smote_balance,y=y_smote_balance,n_jobs=-1,cv=k_fold,scoring=['accuracy'])"
   ],
   "outputs": [],
   "metadata": {}
  },
  {
   "cell_type": "code",
   "execution_count": 111,
   "source": [
    "# print('Cross Validation Accuracy:',np.mean(scores['test_accuracy']))"
   ],
   "outputs": [
    {
     "output_type": "stream",
     "name": "stdout",
     "text": [
      "Cross Validation Accuracy: 0.9810277777777777\n"
     ]
    }
   ],
   "metadata": {}
  },
  {
   "cell_type": "markdown",
   "source": [
    "## **4.2. Confusion Matrix** evaluation"
   ],
   "metadata": {}
  },
  {
   "cell_type": "code",
   "execution_count": 124,
   "source": [
    "_, x_val, _, y_val = train_test_split(train_transformed,train_df['y'],test_size=0.2,random_state=42)\r\n",
    "x_train, _, y_train, _ = train_test_split(x_smote_balance,y_smote_balance,test_size=0.2,random_state=42)"
   ],
   "outputs": [],
   "metadata": {}
  },
  {
   "cell_type": "code",
   "execution_count": 125,
   "source": [
    "support_vector_machine.fit(x_train,y_train)\r\n",
    "y_pred = support_vector_machine.predict(x_val)"
   ],
   "outputs": [],
   "metadata": {}
  },
  {
   "cell_type": "code",
   "execution_count": 126,
   "source": [
    "plot_confusion_matrix(support_vector_machine,x_val,y_val)"
   ],
   "outputs": [
    {
     "output_type": "execute_result",
     "data": {
      "text/plain": [
       "<sklearn.metrics._plot.confusion_matrix.ConfusionMatrixDisplay at 0x28cb651d6a0>"
      ]
     },
     "metadata": {},
     "execution_count": 126
    },
    {
     "output_type": "display_data",
     "data": {
      "image/png": "[encoded data removed]",
      "text/plain": [
       "<Figure size 2880x2160 with 2 Axes>"
      ]
     },
     "metadata": {
      "needs_background": "light"
     }
    }
   ],
   "metadata": {}
  },
  {
   "cell_type": "code",
   "execution_count": 128,
   "source": [
    "print(classification_report(y_true=y_val,y_pred=y_pred))"
   ],
   "outputs": [
    {
     "output_type": "stream",
     "name": "stdout",
     "text": [
      "              precision    recall  f1-score   support\n",
      "\n",
      "    BARBUNYA       1.00      0.99      0.99       232\n",
      "      BOMBAY       1.00      1.00      1.00        79\n",
      "        CALI       1.00      0.98      0.99       254\n",
      "    DERMASON       0.99      0.98      0.99       555\n",
      "       HOROZ       0.93      1.00      0.96       288\n",
      "       SEKER       1.00      0.97      0.98       336\n",
      "        SIRA       0.98      0.99      0.99       423\n",
      "\n",
      "    accuracy                           0.98      2167\n",
      "   macro avg       0.99      0.99      0.99      2167\n",
      "weighted avg       0.99      0.98      0.98      2167\n",
      "\n"
     ]
    }
   ],
   "metadata": {}
  },
  {
   "cell_type": "code",
   "execution_count": 121,
   "source": [
    "C_range = np.arange(2.5, 6, 0.5)\r\n",
    "gamma_range = np.arange(3.5, 7, 0.5)\r\n",
    "param_grid = dict(gamma=gamma_range, C=C_range)\r\n",
    "best_param = tune_hyper_parameter(support_vector_machine,param_grid,X_train=x_smote_balance,Y_train=y_smote_balance)"
   ],
   "outputs": [
    {
     "output_type": "stream",
     "name": "stdout",
     "text": [
      "Fitting 5 folds for each of 49 candidates, totalling 245 fits\n"
     ]
    },
    {
     "output_type": "stream",
     "name": "stderr",
     "text": [
      "[Parallel(n_jobs=-1)]: Using backend LokyBackend with 8 concurrent workers.\n",
      "[Parallel(n_jobs=-1)]: Done   2 tasks      | elapsed:  1.4min\n",
      "[Parallel(n_jobs=-1)]: Done   9 tasks      | elapsed:  2.8min\n",
      "[Parallel(n_jobs=-1)]: Done  16 tasks      | elapsed:  3.3min\n",
      "[Parallel(n_jobs=-1)]: Done  25 tasks      | elapsed:  6.4min\n",
      "[Parallel(n_jobs=-1)]: Done  34 tasks      | elapsed:  8.4min\n",
      "[Parallel(n_jobs=-1)]: Done  45 tasks      | elapsed: 10.2min\n",
      "[Parallel(n_jobs=-1)]: Done  56 tasks      | elapsed: 12.8min\n",
      "[Parallel(n_jobs=-1)]: Done  69 tasks      | elapsed: 16.5min\n",
      "[Parallel(n_jobs=-1)]: Done  82 tasks      | elapsed: 19.4min\n",
      "[Parallel(n_jobs=-1)]: Done  97 tasks      | elapsed: 23.2min\n",
      "[Parallel(n_jobs=-1)]: Done 112 tasks      | elapsed: 26.6min\n",
      "[Parallel(n_jobs=-1)]: Done 129 tasks      | elapsed: 31.3min\n",
      "[Parallel(n_jobs=-1)]: Done 146 tasks      | elapsed: 36.6min\n",
      "[Parallel(n_jobs=-1)]: Done 165 tasks      | elapsed: 41.5min\n",
      "[Parallel(n_jobs=-1)]: Done 184 tasks      | elapsed: 46.1min\n",
      "[Parallel(n_jobs=-1)]: Done 205 tasks      | elapsed: 52.4min\n",
      "[Parallel(n_jobs=-1)]: Done 226 tasks      | elapsed: 57.6min\n",
      "[Parallel(n_jobs=-1)]: Done 245 out of 245 | elapsed: 62.5min finished\n"
     ]
    }
   ],
   "metadata": {}
  },
  {
   "cell_type": "code",
   "execution_count": 122,
   "source": [
    "best_param"
   ],
   "outputs": [
    {
     "output_type": "execute_result",
     "data": {
      "text/plain": [
       "{'C': 5.5, 'gamma': 3.5}"
      ]
     },
     "metadata": {},
     "execution_count": 122
    }
   ],
   "metadata": {}
  },
  {
   "cell_type": "markdown",
   "source": [
    "# ***5. Observations***"
   ],
   "metadata": {}
  },
  {
   "cell_type": "markdown",
   "source": [
    "## **5.1** Export **Missclassified** "
   ],
   "metadata": {}
  },
  {
   "cell_type": "code",
   "execution_count": 34,
   "source": [
    "y_pred_series = pd.Series(y_pred,name=\"y_pred\")\r\n",
    "y_pred_series.index = y_val.index\r\n",
    "y_pred_series.sort_index(inplace=True)"
   ],
   "outputs": [],
   "metadata": {}
  },
  {
   "cell_type": "code",
   "execution_count": 35,
   "source": [
    " input_filtered_using_val = train_df[train_df.index.isin(y_val.index)]\r\n",
    " missclassified = input_filtered_using_val[input_filtered_using_val['y']!=y_pred_series]\r\n",
    " missclassified = pd.concat([missclassified,y_pred_series],axis=1).dropna()"
   ],
   "outputs": [],
   "metadata": {}
  },
  {
   "cell_type": "code",
   "execution_count": 36,
   "source": [
    "missclassified.to_csv('./resources/generatedData/missclassified_Forth_model.csv')"
   ],
   "outputs": [],
   "metadata": {}
  },
  {
   "cell_type": "markdown",
   "source": [
    "## **First** Observation, Preprocessing (**Standardization**):\r\n",
    "* ### Model confused between **Sira** and **Dermason** **70** smaple miss classified\r\n",
    "* ### Model confused between **Cali** and **Barbounya** **20** samples miss classified\r\n",
    "* ### **Accuracy** score 94% and avarage **Accuracy** 92.77%\r\n",
    "* ### Looking to improve **Dermason , Cali and Sira** scores which are the **worest** **F1** scores **93%,93%,89%**"
   ],
   "metadata": {}
  },
  {
   "cell_type": "markdown",
   "source": [
    "## **Second** Observation, Preprocessing (**Standardization**,**Smote**):\r\n",
    "* ### Model confused between **Sira** and **Dermason** **70** smaple miss classified\r\n",
    "* ### Model confused between **Cali** and **Barbounya** **20** samples miss classified\r\n",
    "* ### **Accuracy** score 94% and avarage **Accuracy** 94.6%\r\n",
    "* ### Looking to improve **Dermason , Cali and Sira** scores which are the **worest** **F1** scores **93%,93%,90%**"
   ],
   "metadata": {}
  },
  {
   "cell_type": "markdown",
   "source": [
    "## **Third** Observation, Preprocessing (**Standardization**,**Smote\"[4000,4000,8000,8000,4000,4000,4000]\"**):\r\n",
    "* ### Model confused between **Sira** and **Dermason** **55** smaple miss classified\r\n",
    "* ### Model confused between **Cali** and **Barbounya** **7** samples miss classified\r\n",
    "* ### **Accuracy** score 96% and avarage **Accuracy** 96.5%\r\n",
    "* ### Looking to improve **Dermason ,Sira** scores which are the **worest** **F1** scores **95%,92%**"
   ],
   "metadata": {}
  },
  {
   "cell_type": "markdown",
   "source": [
    "## **Fourth** Observation, Preprocessing (**Standardization**,**Smote\"[4000,4000,8000,8000,4000,4000,4000]\"**,**T-SNE**):\r\n",
    "* ### Model confused between **Sira** and **Dermason** **30** smaple miss classified\r\n",
    "* ### Model confused between **Cali** and **Barbounya** **7** samples miss classified ***Solved***\r\n",
    "* ### **Accuracy** score 98% and avarage **Accuracy** 97.6%\r\n",
    "* ### Looking to improve **Dermason ,Sira** scores which are the **worest** **F1** scores **97%,95%**\r\n",
    "## **Tuning** {C:2, gamma:3}:\r\n",
    "* ### Result **Accuracy** score 98% and mean **Accuracy** 98.0%\r\n",
    "* ### Model confused between **Sira** and **Dermason** **19** smaple miss classified"
   ],
   "metadata": {}
  }
 ],
 "metadata": {
  "orig_nbformat": 4,
  "language_info": {
   "name": "python",
   "version": "3.8.5",
   "mimetype": "text/x-python",
   "codemirror_mode": {
    "name": "ipython",
    "version": 3
   },
   "pygments_lexer": "ipython3",
   "nbconvert_exporter": "python",
   "file_extension": ".py"
  },
  "kernelspec": {
   "name": "python3",
   "display_name": "Python 3.8.5 64-bit ('base': conda)"
  },
  "interpreter": {
   "hash": "73e03da126b73bfff3642ec5261d56fa25c444ea595de51041687efaa60dda41"
  }
 },
 "nbformat": 4,
 "nbformat_minor": 2
}